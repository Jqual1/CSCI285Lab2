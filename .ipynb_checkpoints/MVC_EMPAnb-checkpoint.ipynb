{
 "cells": [
  {
   "cell_type": "code",
   "execution_count": 152,
   "id": "755bbdeb-512f-4682-b50e-b1991da4c733",
   "metadata": {},
   "outputs": [],
   "source": [
    "import pandas as pd\n",
    "pd.set_option('display.max_columns', None)\n",
    "import numpy as np\n",
    "from typing import *\n",
    "from IPython.display import display, Markdown"
   ]
  },
  {
   "cell_type": "markdown",
   "id": "1adabb33-cfb0-4fa9-b06c-51e06a759a79",
   "metadata": {},
   "source": [
    "# Data Dictionary"
   ]
  },
  {
   "cell_type": "markdown",
   "id": "8c9881d5-4006-4b94-9354-a9599b6bf6e3",
   "metadata": {},
   "source": [
    "## What is our data?\n",
    "Our data is about the oxide content within volcanic rocks found in the Matan volcanic center, northern Harrat Rahat, Saudi Arabia. Measurements are found using an electron microscope and the orginators of this study are Mark E. Stelten and Drew T. Downs."
   ]
  },
  {
   "cell_type": "markdown",
   "id": "7f0a14b2-5858-4d29-a211-9019a7c4d855",
   "metadata": {},
   "source": [
    "| Column       | Description |\n",
    "| -----------  | ----------- |\n",
    "| Sample Name     | Sample collection number      |\n",
    "| Analysis Name | Unique identifier for electron microprobe analysis     |\n",
    "| Mineral Phase        | Type of mineral analyzed |\n",
    "| Context             | The description and classification of the rock analysis |\n",
    "| SiO2 | Weight percent concentration of silicon measured by electron microprobe reported as silicon oxide |\n",
    "| TiO2 |  Weight percent concentration of titanium measured by electron microprobe reported as titanium oxide|\n",
    "| Al2O3 |  Weight percent concentration of aluminum by electron microprobe reported as aluminum oxide |\n",
    "| FeO* | Weight percent concentration of iron measured by electron microprobe reported as ferrous iron oxide. The asterisk indicates that in this measurement all the iron is calculated as ferrous iron. |\n",
    "| FeO | Weight percent concentration of ferrous iron oxide recalculated from total iron measured by electron microprobe (FeO*) to maintain charge balance in spinel series minerals on a three cation - four oxygen basis, or in pyroxenes on a two cation - three oxygen basis. |\n",
    "|Fe2O3| Weight percent concentration of ferric iron oxide recalculated from total iron measured by electron microprobe (FeO*) to maintain charge balance in spinel series minerals on a three cation - four oxygen basis, or in pyroxenes on a two cation - three oxygen basis. |\n",
    "| CaO| Weight percent concentration of calcium measured by electron microprobe reported as calcium oxide |\n",
    "| Na2O | Weight percent concentration of sodium measured by electron microprobe reported as sodium oxide |\n",
    "|K2O | Weight percent concentration of potassium measured by electron microprobe reported as potassium oxide |\n",
    "| MnO | Weight percent concentration of manganese measured by electron microprobe reported as manganese oxide |\n",
    "| MgO | Weight percent concentration of magnesium measured by electron microprobe reported as magnesium oxide |\n",
    "|NiO | Weight percent concentration of nickel measured by electron microprobe reported as nickel oxide|\n",
    "| Cr2O3 | Weight percent concentration of chromium measured by electron microprobe reported as chromium oxide |\n",
    "|V2O3 | Weight percent concentration of vanadium measured by electron microprobe reported as vanadium oxide |\n",
    " |Total | Sum of oxide weight concentrations|"
   ]
  },
  {
   "cell_type": "code",
   "execution_count": 116,
   "id": "b8b8340f-5abc-4f42-9aef-7e0242c37983",
   "metadata": {
    "tags": []
   },
   "outputs": [],
   "source": [
    "df = pd.read_csv(\"MVC_EMPAdata.csv\")"
   ]
  },
  {
   "cell_type": "code",
   "execution_count": 153,
   "id": "d255a495-4288-4e30-bbfe-b9f13c339b2e",
   "metadata": {},
   "outputs": [],
   "source": [
    "def show_markdown_table(headers: List[str], data: List) -> str:\n",
    "    s = f\"| {' | '.join(headers)} |\\n| {' | '.join([(max(1, len(header) - 1)) * '-' + ':' for header in headers])} |\\n\"\n",
    "    for row in data:\n",
    "        s += f\"| {' | '.join([str(item) for item in row])} |\\n\"\n",
    "    display(Markdown(s))"
   ]
  },
  {
   "cell_type": "markdown",
   "id": "5602862e-5b8c-4fb8-81b9-3df92618a179",
   "metadata": {},
   "source": [
    "## Cleaning up the table"
   ]
  },
  {
   "cell_type": "code",
   "execution_count": 117,
   "id": "44181813-ee11-4a7f-be5c-21b92389432e",
   "metadata": {},
   "outputs": [],
   "source": [
    "df = df.drop([\"Unit Abbreviation\", \"XAb\",\"XAn\", \"XOr\", \"XFa\", \"XFo\", \"XTp\", \"XWo\", \"XEn\", \"XFs\", \"XJd\", \"XAe\", \"XQuad\"], axis = 1)"
   ]
  },
  {
   "cell_type": "code",
   "execution_count": 118,
   "id": "1d17c3f9-3320-4bff-9518-e849bf53b9b4",
   "metadata": {},
   "outputs": [],
   "source": [
    "df.drop(df.filter(regex=\"Unname\"),axis=1, inplace=True)"
   ]
  },
  {
   "cell_type": "code",
   "execution_count": 119,
   "id": "829d27a2-4998-4e35-8dab-05a18d3ac7f1",
   "metadata": {},
   "outputs": [],
   "source": [
    "df = df.drop_duplicates()\n",
    "df = df.drop([1612])"
   ]
  },
  {
   "cell_type": "code",
   "execution_count": 143,
   "id": "fa6f4bce-2f96-473b-bb91-82e13866235e",
   "metadata": {
    "tags": []
   },
   "outputs": [],
   "source": [
    "col = [column.strip() for column in df.columns]\n",
    "df.columns = col\n",
    "df = df.replace(\"BDL\", np.nan)"
   ]
  },
  {
   "cell_type": "code",
   "execution_count": 142,
   "id": "06c2d889-cf64-4780-a7ed-8b5a36d85afa",
   "metadata": {},
   "outputs": [],
   "source": [
    "df = df.astype({\"SiO2\": float, \"TiO2\": float, \"Al2O3\": float, \"FeO*\": float, \"FeO\": float, \"Fe2O3\": float,\"CaO\": float, \"NiO\": float, \"V2O3\": float,\"Cr2O3\": float, \"MnO\": float, \"Cr2O3\": float, \"MgO\": float})"
   ]
  },
  {
   "cell_type": "code",
   "execution_count": 145,
   "id": "8bbff222-7ba9-41e3-9164-d83136463012",
   "metadata": {
    "tags": []
   },
   "outputs": [
    {
     "data": {
      "text/html": [
       "<div>\n",
       "<style scoped>\n",
       "    .dataframe tbody tr th:only-of-type {\n",
       "        vertical-align: middle;\n",
       "    }\n",
       "\n",
       "    .dataframe tbody tr th {\n",
       "        vertical-align: top;\n",
       "    }\n",
       "\n",
       "    .dataframe thead th {\n",
       "        text-align: right;\n",
       "    }\n",
       "</style>\n",
       "<table border=\"1\" class=\"dataframe\">\n",
       "  <thead>\n",
       "    <tr style=\"text-align: right;\">\n",
       "      <th></th>\n",
       "      <th>Sample Name</th>\n",
       "      <th>Analysis Name</th>\n",
       "      <th>Mineral phase</th>\n",
       "      <th>Context</th>\n",
       "      <th>SiO2</th>\n",
       "      <th>TiO2</th>\n",
       "      <th>Al2O3</th>\n",
       "      <th>FeO*</th>\n",
       "      <th>FeO</th>\n",
       "      <th>Fe2O3</th>\n",
       "      <th>CaO</th>\n",
       "      <th>Na2O</th>\n",
       "      <th>K2O</th>\n",
       "      <th>MnO</th>\n",
       "      <th>MgO</th>\n",
       "      <th>NiO</th>\n",
       "      <th>Cr2O3</th>\n",
       "      <th>V2O3</th>\n",
       "      <th>Total</th>\n",
       "    </tr>\n",
       "  </thead>\n",
       "  <tbody>\n",
       "    <tr>\n",
       "      <th>0</th>\n",
       "      <td>R14DC044</td>\n",
       "      <td>R14DC044-GM-PLAG1</td>\n",
       "      <td>Plagioclase</td>\n",
       "      <td>Groundmass</td>\n",
       "      <td>53.3</td>\n",
       "      <td>NaN</td>\n",
       "      <td>28.6</td>\n",
       "      <td>0.66</td>\n",
       "      <td>NaN</td>\n",
       "      <td>NaN</td>\n",
       "      <td>11.7</td>\n",
       "      <td>4.4</td>\n",
       "      <td>0.3</td>\n",
       "      <td>NaN</td>\n",
       "      <td>NaN</td>\n",
       "      <td>NaN</td>\n",
       "      <td>NaN</td>\n",
       "      <td>NaN</td>\n",
       "      <td>99.0</td>\n",
       "    </tr>\n",
       "    <tr>\n",
       "      <th>1</th>\n",
       "      <td>R14DC044</td>\n",
       "      <td>R14DC044-GM-PLAG2</td>\n",
       "      <td>Plagioclase</td>\n",
       "      <td>Groundmass</td>\n",
       "      <td>54.2</td>\n",
       "      <td>NaN</td>\n",
       "      <td>28.2</td>\n",
       "      <td>0.81</td>\n",
       "      <td>NaN</td>\n",
       "      <td>NaN</td>\n",
       "      <td>11.1</td>\n",
       "      <td>4.7</td>\n",
       "      <td>0.3</td>\n",
       "      <td>NaN</td>\n",
       "      <td>NaN</td>\n",
       "      <td>NaN</td>\n",
       "      <td>NaN</td>\n",
       "      <td>NaN</td>\n",
       "      <td>99.3</td>\n",
       "    </tr>\n",
       "  </tbody>\n",
       "</table>\n",
       "</div>"
      ],
      "text/plain": [
       "  Sample Name      Analysis Name Mineral phase     Context  SiO2  TiO2  Al2O3  \\\n",
       "0    R14DC044  R14DC044-GM-PLAG1   Plagioclase  Groundmass  53.3   NaN   28.6   \n",
       "1    R14DC044  R14DC044-GM-PLAG2   Plagioclase  Groundmass  54.2   NaN   28.2   \n",
       "\n",
       "   FeO*  FeO  Fe2O3   CaO  Na2O  K2O  MnO  MgO  NiO  Cr2O3  V2O3  Total  \n",
       "0  0.66  NaN    NaN  11.7   4.4  0.3  NaN  NaN  NaN    NaN   NaN   99.0  \n",
       "1  0.81  NaN    NaN  11.1   4.7  0.3  NaN  NaN  NaN    NaN   NaN   99.3  "
      ]
     },
     "execution_count": 145,
     "metadata": {},
     "output_type": "execute_result"
    }
   ],
   "source": [
    "df.head(2)"
   ]
  },
  {
   "cell_type": "markdown",
   "id": "60f73893-ef5f-43b4-8dcc-930d26600de4",
   "metadata": {},
   "source": [
    "## Unique Samples"
   ]
  },
  {
   "cell_type": "code",
   "execution_count": 91,
   "id": "6c20f3b7-ffba-4b1f-b41c-8c16514645e0",
   "metadata": {},
   "outputs": [
    {
     "name": "stdout",
     "output_type": "stream",
     "text": [
      "Unique Samples : 23\n"
     ]
    }
   ],
   "source": [
    "tmp = df[\"Sample Name\"].unique()\n",
    "print(f\"Unique Samples : {len(tmp)}\")"
   ]
  },
  {
   "cell_type": "code",
   "execution_count": null,
   "id": "206c8053-aa42-4cef-b1f3-4dafc6751c52",
   "metadata": {
    "tags": []
   },
   "outputs": [],
   "source": [
    "\n"
   ]
  },
  {
   "cell_type": "markdown",
   "id": "7cba255f-7f67-4c98-922b-c5bd2be79a89",
   "metadata": {},
   "source": [
    "# Stats!"
   ]
  },
  {
   "cell_type": "code",
   "execution_count": 146,
   "id": "95f0b36b-de78-49a7-be0e-4a9e7624cce4",
   "metadata": {
    "collapsed": true,
    "jupyter": {
     "outputs_hidden": true
    },
    "tags": []
   },
   "outputs": [
    {
     "data": {
      "text/plain": [
       "Sample Name       object\n",
       "Analysis Name     object\n",
       "Mineral phase     object\n",
       "Context           object\n",
       "SiO2             float64\n",
       "TiO2             float64\n",
       "Al2O3            float64\n",
       "FeO*             float64\n",
       "FeO              float64\n",
       "Fe2O3            float64\n",
       "CaO              float64\n",
       "Na2O             float64\n",
       "K2O              float64\n",
       "MnO              float64\n",
       "MgO              float64\n",
       "NiO              float64\n",
       "Cr2O3            float64\n",
       "V2O3             float64\n",
       "Total            float64\n",
       "dtype: object"
      ]
     },
     "execution_count": 146,
     "metadata": {},
     "output_type": "execute_result"
    }
   ],
   "source": [
    "df.dtypes"
   ]
  },
  {
   "cell_type": "code",
   "execution_count": 150,
   "id": "fd77c910-2140-470a-bbab-32d7ea5eec2b",
   "metadata": {},
   "outputs": [],
   "source": [
    "describe_df = df.describe()"
   ]
  },
  {
   "cell_type": "code",
   "execution_count": 149,
   "id": "672da744-fcc7-4228-bd70-59dbfb86b5dd",
   "metadata": {},
   "outputs": [
    {
     "data": {
      "text/html": [
       "<div>\n",
       "<style scoped>\n",
       "    .dataframe tbody tr th:only-of-type {\n",
       "        vertical-align: middle;\n",
       "    }\n",
       "\n",
       "    .dataframe tbody tr th {\n",
       "        vertical-align: top;\n",
       "    }\n",
       "\n",
       "    .dataframe thead th {\n",
       "        text-align: right;\n",
       "    }\n",
       "</style>\n",
       "<table border=\"1\" class=\"dataframe\">\n",
       "  <thead>\n",
       "    <tr style=\"text-align: right;\">\n",
       "      <th></th>\n",
       "      <th>SiO2</th>\n",
       "      <th>TiO2</th>\n",
       "      <th>Al2O3</th>\n",
       "      <th>FeO*</th>\n",
       "      <th>FeO</th>\n",
       "      <th>Fe2O3</th>\n",
       "      <th>CaO</th>\n",
       "      <th>Na2O</th>\n",
       "      <th>K2O</th>\n",
       "      <th>MnO</th>\n",
       "      <th>MgO</th>\n",
       "      <th>NiO</th>\n",
       "      <th>Cr2O3</th>\n",
       "      <th>V2O3</th>\n",
       "      <th>Total</th>\n",
       "    </tr>\n",
       "  </thead>\n",
       "  <tbody>\n",
       "    <tr>\n",
       "      <th>count</th>\n",
       "      <td>1602.000000</td>\n",
       "      <td>335.000000</td>\n",
       "      <td>1212.000000</td>\n",
       "      <td>1168.000000</td>\n",
       "      <td>330.000000</td>\n",
       "      <td>333.000000</td>\n",
       "      <td>1356.000000</td>\n",
       "      <td>1086.000000</td>\n",
       "      <td>877.000000</td>\n",
       "      <td>734.000000</td>\n",
       "      <td>695.000000</td>\n",
       "      <td>256.000000</td>\n",
       "      <td>78.000000</td>\n",
       "      <td>104.000000</td>\n",
       "      <td>1612.000000</td>\n",
       "    </tr>\n",
       "    <tr>\n",
       "      <th>mean</th>\n",
       "      <td>48.627903</td>\n",
       "      <td>9.232836</td>\n",
       "      <td>17.747030</td>\n",
       "      <td>10.073870</td>\n",
       "      <td>26.000606</td>\n",
       "      <td>14.136637</td>\n",
       "      <td>6.351622</td>\n",
       "      <td>5.706906</td>\n",
       "      <td>3.069783</td>\n",
       "      <td>0.779973</td>\n",
       "      <td>20.912374</td>\n",
       "      <td>0.192188</td>\n",
       "      <td>1.280769</td>\n",
       "      <td>0.557692</td>\n",
       "      <td>99.490509</td>\n",
       "    </tr>\n",
       "    <tr>\n",
       "      <th>std</th>\n",
       "      <td>17.435379</td>\n",
       "      <td>10.998206</td>\n",
       "      <td>10.410239</td>\n",
       "      <td>15.693972</td>\n",
       "      <td>18.403381</td>\n",
       "      <td>14.218107</td>\n",
       "      <td>6.913224</td>\n",
       "      <td>2.590681</td>\n",
       "      <td>3.138174</td>\n",
       "      <td>0.734880</td>\n",
       "      <td>16.511497</td>\n",
       "      <td>0.097907</td>\n",
       "      <td>3.540785</td>\n",
       "      <td>0.281705</td>\n",
       "      <td>1.187302</td>\n",
       "    </tr>\n",
       "    <tr>\n",
       "      <th>min</th>\n",
       "      <td>0.100000</td>\n",
       "      <td>0.100000</td>\n",
       "      <td>0.100000</td>\n",
       "      <td>0.120000</td>\n",
       "      <td>0.300000</td>\n",
       "      <td>0.400000</td>\n",
       "      <td>0.100000</td>\n",
       "      <td>0.400000</td>\n",
       "      <td>0.100000</td>\n",
       "      <td>0.100000</td>\n",
       "      <td>0.100000</td>\n",
       "      <td>0.100000</td>\n",
       "      <td>0.100000</td>\n",
       "      <td>0.100000</td>\n",
       "      <td>94.100000</td>\n",
       "    </tr>\n",
       "    <tr>\n",
       "      <th>25%</th>\n",
       "      <td>38.700000</td>\n",
       "      <td>0.800000</td>\n",
       "      <td>4.800000</td>\n",
       "      <td>0.310000</td>\n",
       "      <td>8.800000</td>\n",
       "      <td>3.000000</td>\n",
       "      <td>0.300000</td>\n",
       "      <td>4.500000</td>\n",
       "      <td>0.300000</td>\n",
       "      <td>0.300000</td>\n",
       "      <td>3.500000</td>\n",
       "      <td>0.100000</td>\n",
       "      <td>0.100000</td>\n",
       "      <td>0.400000</td>\n",
       "      <td>98.900000</td>\n",
       "    </tr>\n",
       "    <tr>\n",
       "      <th>50%</th>\n",
       "      <td>52.400000</td>\n",
       "      <td>3.000000</td>\n",
       "      <td>19.100000</td>\n",
       "      <td>0.460000</td>\n",
       "      <td>19.750000</td>\n",
       "      <td>8.900000</td>\n",
       "      <td>2.500000</td>\n",
       "      <td>6.000000</td>\n",
       "      <td>0.900000</td>\n",
       "      <td>0.600000</td>\n",
       "      <td>21.000000</td>\n",
       "      <td>0.200000</td>\n",
       "      <td>0.200000</td>\n",
       "      <td>0.600000</td>\n",
       "      <td>99.600000</td>\n",
       "    </tr>\n",
       "    <tr>\n",
       "      <th>75%</th>\n",
       "      <td>64.000000</td>\n",
       "      <td>22.000000</td>\n",
       "      <td>26.800000</td>\n",
       "      <td>16.500000</td>\n",
       "      <td>48.175000</td>\n",
       "      <td>21.600000</td>\n",
       "      <td>11.525000</td>\n",
       "      <td>7.400000</td>\n",
       "      <td>5.800000</td>\n",
       "      <td>1.100000</td>\n",
       "      <td>37.300000</td>\n",
       "      <td>0.300000</td>\n",
       "      <td>0.800000</td>\n",
       "      <td>0.800000</td>\n",
       "      <td>100.200000</td>\n",
       "    </tr>\n",
       "    <tr>\n",
       "      <th>max</th>\n",
       "      <td>68.700000</td>\n",
       "      <td>31.000000</td>\n",
       "      <td>35.700000</td>\n",
       "      <td>63.200000</td>\n",
       "      <td>55.200000</td>\n",
       "      <td>65.100000</td>\n",
       "      <td>22.100000</td>\n",
       "      <td>13.800000</td>\n",
       "      <td>10.000000</td>\n",
       "      <td>4.400000</td>\n",
       "      <td>47.300000</td>\n",
       "      <td>0.400000</td>\n",
       "      <td>24.900000</td>\n",
       "      <td>1.200000</td>\n",
       "      <td>103.400000</td>\n",
       "    </tr>\n",
       "  </tbody>\n",
       "</table>\n",
       "</div>"
      ],
      "text/plain": [
       "              SiO2        TiO2        Al2O3         FeO*         FeO  \\\n",
       "count  1602.000000  335.000000  1212.000000  1168.000000  330.000000   \n",
       "mean     48.627903    9.232836    17.747030    10.073870   26.000606   \n",
       "std      17.435379   10.998206    10.410239    15.693972   18.403381   \n",
       "min       0.100000    0.100000     0.100000     0.120000    0.300000   \n",
       "25%      38.700000    0.800000     4.800000     0.310000    8.800000   \n",
       "50%      52.400000    3.000000    19.100000     0.460000   19.750000   \n",
       "75%      64.000000   22.000000    26.800000    16.500000   48.175000   \n",
       "max      68.700000   31.000000    35.700000    63.200000   55.200000   \n",
       "\n",
       "            Fe2O3          CaO         Na2O         K2O         MnO  \\\n",
       "count  333.000000  1356.000000  1086.000000  877.000000  734.000000   \n",
       "mean    14.136637     6.351622     5.706906    3.069783    0.779973   \n",
       "std     14.218107     6.913224     2.590681    3.138174    0.734880   \n",
       "min      0.400000     0.100000     0.400000    0.100000    0.100000   \n",
       "25%      3.000000     0.300000     4.500000    0.300000    0.300000   \n",
       "50%      8.900000     2.500000     6.000000    0.900000    0.600000   \n",
       "75%     21.600000    11.525000     7.400000    5.800000    1.100000   \n",
       "max     65.100000    22.100000    13.800000   10.000000    4.400000   \n",
       "\n",
       "              MgO         NiO      Cr2O3        V2O3        Total  \n",
       "count  695.000000  256.000000  78.000000  104.000000  1612.000000  \n",
       "mean    20.912374    0.192188   1.280769    0.557692    99.490509  \n",
       "std     16.511497    0.097907   3.540785    0.281705     1.187302  \n",
       "min      0.100000    0.100000   0.100000    0.100000    94.100000  \n",
       "25%      3.500000    0.100000   0.100000    0.400000    98.900000  \n",
       "50%     21.000000    0.200000   0.200000    0.600000    99.600000  \n",
       "75%     37.300000    0.300000   0.800000    0.800000   100.200000  \n",
       "max     47.300000    0.400000  24.900000    1.200000   103.400000  "
      ]
     },
     "execution_count": 149,
     "metadata": {},
     "output_type": "execute_result"
    }
   ],
   "source": [
    "df.describe()"
   ]
  },
  {
   "cell_type": "code",
   "execution_count": 213,
   "id": "c200a8ab-1761-4907-bfc9-2a7c9c4f7c51",
   "metadata": {},
   "outputs": [],
   "source": [
    "rslt_df = describe_df.sort_values(by = 'mean', axis = 1, ascending=False)"
   ]
  },
  {
   "cell_type": "code",
   "execution_count": 214,
   "id": "8c598791-a99d-4189-9078-e1d0c01037cd",
   "metadata": {},
   "outputs": [],
   "source": [
    "mean_list = rslt_df.iloc[1].tolist()\n",
    "cols = rslt_df.columns.tolist()"
   ]
  },
  {
   "cell_type": "code",
   "execution_count": 215,
   "id": "373e1fc0-19c3-4973-bab6-24f25f34025b",
   "metadata": {},
   "outputs": [],
   "source": [
    "tmp = {}\n",
    "for count, value in enumerate(mean_list):\n",
    "    tmp[cols[count]] = value\n",
    "del tmp[\"Total\"]"
   ]
  },
  {
   "cell_type": "markdown",
   "id": "d5710bc2-afbc-4049-b57f-f6b7793f3446",
   "metadata": {},
   "source": [
    "# Average amount of each oxide concentration in all samples"
   ]
  },
  {
   "cell_type": "code",
   "execution_count": 216,
   "id": "123ada9f-023b-4396-9047-0e96820d14b9",
   "metadata": {
    "collapsed": true,
    "jupyter": {
     "outputs_hidden": true
    },
    "tags": []
   },
   "outputs": [
    {
     "data": {
      "text/markdown": [
       "| Chemical | Average amount in samples |\n",
       "| -------: | ------------------------: |\n",
       "| SiO2 | 48.627902621723116 |\n",
       "| FeO | 26.000606060606067 |\n",
       "| MgO | 20.91237410071943 |\n",
       "| Al2O3 | 17.747029702970302 |\n",
       "| Fe2O3 | 14.136636636636629 |\n",
       "| FeO* | 10.073869863013702 |\n",
       "| TiO2 | 9.232835820895527 |\n",
       "| CaO | 6.351622418879059 |\n",
       "| Na2O | 5.706906077348066 |\n",
       "| K2O | 3.0697833523375144 |\n",
       "| Cr2O3 | 1.28076923076923 |\n",
       "| MnO | 0.779972752043596 |\n",
       "| V2O3 | 0.5576923076923076 |\n",
       "| NiO | 0.19218750000000034 |\n"
      ],
      "text/plain": [
       "<IPython.core.display.Markdown object>"
      ]
     },
     "metadata": {},
     "output_type": "display_data"
    }
   ],
   "source": [
    "show_markdown_table([\"Chemical\", \"Average amount in samples\"], [[col, tmp[col]] for col in tmp])"
   ]
  },
  {
   "cell_type": "code",
   "execution_count": 219,
   "id": "2683cf07-013d-4918-9354-3225ce1387d1",
   "metadata": {},
   "outputs": [
    {
     "data": {
      "text/html": [
       "<div>\n",
       "<style scoped>\n",
       "    .dataframe tbody tr th:only-of-type {\n",
       "        vertical-align: middle;\n",
       "    }\n",
       "\n",
       "    .dataframe tbody tr th {\n",
       "        vertical-align: top;\n",
       "    }\n",
       "\n",
       "    .dataframe thead th {\n",
       "        text-align: right;\n",
       "    }\n",
       "</style>\n",
       "<table border=\"1\" class=\"dataframe\">\n",
       "  <thead>\n",
       "    <tr style=\"text-align: right;\">\n",
       "      <th></th>\n",
       "      <th>Sample Name</th>\n",
       "      <th>Analysis Name</th>\n",
       "      <th>Mineral phase</th>\n",
       "      <th>Context</th>\n",
       "      <th>SiO2</th>\n",
       "      <th>TiO2</th>\n",
       "      <th>Al2O3</th>\n",
       "      <th>FeO*</th>\n",
       "      <th>FeO</th>\n",
       "      <th>Fe2O3</th>\n",
       "      <th>CaO</th>\n",
       "      <th>Na2O</th>\n",
       "      <th>K2O</th>\n",
       "      <th>MnO</th>\n",
       "      <th>MgO</th>\n",
       "      <th>NiO</th>\n",
       "      <th>Cr2O3</th>\n",
       "      <th>V2O3</th>\n",
       "      <th>Total</th>\n",
       "    </tr>\n",
       "  </thead>\n",
       "  <tbody>\n",
       "    <tr>\n",
       "      <th>0</th>\n",
       "      <td>R14DC044</td>\n",
       "      <td>R14DC044-GM-PLAG1</td>\n",
       "      <td>Plagioclase</td>\n",
       "      <td>Groundmass</td>\n",
       "      <td>53.3</td>\n",
       "      <td>NaN</td>\n",
       "      <td>28.6</td>\n",
       "      <td>0.66</td>\n",
       "      <td>NaN</td>\n",
       "      <td>NaN</td>\n",
       "      <td>11.7</td>\n",
       "      <td>4.4</td>\n",
       "      <td>0.3</td>\n",
       "      <td>NaN</td>\n",
       "      <td>NaN</td>\n",
       "      <td>NaN</td>\n",
       "      <td>NaN</td>\n",
       "      <td>NaN</td>\n",
       "      <td>99.0</td>\n",
       "    </tr>\n",
       "  </tbody>\n",
       "</table>\n",
       "</div>"
      ],
      "text/plain": [
       "  Sample Name      Analysis Name Mineral phase     Context  SiO2  TiO2  Al2O3  \\\n",
       "0    R14DC044  R14DC044-GM-PLAG1   Plagioclase  Groundmass  53.3   NaN   28.6   \n",
       "\n",
       "   FeO*  FeO  Fe2O3   CaO  Na2O  K2O  MnO  MgO  NiO  Cr2O3  V2O3  Total  \n",
       "0  0.66  NaN    NaN  11.7   4.4  0.3  NaN  NaN  NaN    NaN   NaN   99.0  "
      ]
     },
     "execution_count": 219,
     "metadata": {},
     "output_type": "execute_result"
    }
   ],
   "source": [
    "df.head(1)"
   ]
  },
  {
   "cell_type": "code",
   "execution_count": null,
   "id": "ed985158-4b0f-44bd-adaf-affcc0a447c8",
   "metadata": {},
   "outputs": [],
   "source": [
    "## Do concentrations based on context and  mineral phase\n",
    "## Get counts of each mineral phase and two contexts\n",
    "## See if there if different mineral phases have different contexts\n",
    "## Start visualization"
   ]
  }
 ],
 "metadata": {
  "kernelspec": {
   "display_name": "Python 3 (ipykernel)",
   "language": "python",
   "name": "python3"
  },
  "language_info": {
   "codemirror_mode": {
    "name": "ipython",
    "version": 3
   },
   "file_extension": ".py",
   "mimetype": "text/x-python",
   "name": "python",
   "nbconvert_exporter": "python",
   "pygments_lexer": "ipython3",
   "version": "3.9.12"
  }
 },
 "nbformat": 4,
 "nbformat_minor": 5
}
